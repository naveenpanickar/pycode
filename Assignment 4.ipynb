{
 "cells": [
  {
   "cell_type": "markdown",
   "metadata": {},
   "source": [
    "# Assignment 4"
   ]
  },
  {
   "cell_type": "markdown",
   "metadata": {},
   "source": [
    "### Q1.1\n",
    "#### Write a Python Program(with class concepts) to find the area of the triangle using the below formula. \n",
    " \n",
    "area = (s*(s-a)*(s-b)*(s-c)) ** 0.5 \n",
    " \n",
    "Function to take the length of the sides of triangle from user should be defined in the parent class and function to calculate the area should be defined in subclass. "
   ]
  },
  {
   "cell_type": "code",
   "execution_count": 30,
   "metadata": {
    "scrolled": true
   },
   "outputs": [
    {
     "name": "stdout",
     "output_type": "stream",
     "text": [
      "Enter the value of a = 6\n",
      "Enter the value of b = 7\n",
      "Enter the value of c = 8\n",
      "area : 20.33316256758894\n"
     ]
    }
   ],
   "source": [
    "class Triangle:\n",
    "    def __init__(self,a,b,c):\n",
    "        self.a = float(a) #assign side of triangle\n",
    "        self.b = float(b) #assign side of triangle\n",
    "        self.c = float(c) #assign side of triangle\n",
    "    def area(self):\n",
    "        s=(self.a + self.b + self.c)/2 #permimeter cal.\n",
    "        return((s*(s-self.a)*(s-self.b)*(s-self.c))**0.5) #return area cal.\n",
    "a=input(\"Enter the value of a = \") #input side of triangle\n",
    "b=input(\"Enter the value of b = \") #input side of triangle\n",
    "c=input(\"Enter the value of c = \") #input side of triangle\n",
    "t = Triangle(a, b, c) #assign to a variable: sides within traingle class\n",
    "print(\"area : {}\".format(t.area())) #cal. and print area of traingle"
   ]
  },
  {
   "cell_type": "markdown",
   "metadata": {},
   "source": [
    "### Task2: Q1.2\n",
    "#### Write a function filter_long_words() that takes a list of words and an integer n and returns the list of words that are longer than n."
   ]
  },
  {
   "cell_type": "code",
   "execution_count": 3,
   "metadata": {},
   "outputs": [
    {
     "name": "stdout",
     "output_type": "stream",
     "text": [
      "['hello', 'namaste']\n"
     ]
    }
   ],
   "source": [
    "def filter_long_words(n, lst):\n",
    "    return [i for i in lst if len(i) > n] #return list #for each element is list #conditional check of len(word) > n\n",
    "print (filter_long_words(3, ['hi', 'hello', 'namaste']))"
   ]
  },
  {
   "cell_type": "markdown",
   "metadata": {},
   "source": [
    "### Q2.1\n",
    "#### Write a Python program using function concept that maps  list of words into a list of integers representing the lengths of the corresponding words​. \n",
    " Hint: ​If a list [ab,cde,erty] is passed on to the python function output should come as [2,3,4] \n",
    " Here 2,3 and 4 are the lengths of the words in the list."
   ]
  },
  {
   "cell_type": "code",
   "execution_count": 15,
   "metadata": {},
   "outputs": [
    {
     "data": {
      "text/plain": [
       "[2, 3, 4]"
      ]
     },
     "execution_count": 15,
     "metadata": {},
     "output_type": "execute_result"
    }
   ],
   "source": [
    "def getCount(listOfElems): #define function\n",
    "        return list(map(lambda x: len(x), listOfElems)) #map and fetch len(words) in a list\n",
    "getCount(['ab','cde','erty'])"
   ]
  },
  {
   "cell_type": "markdown",
   "metadata": {},
   "source": [
    "### Q2.2\n",
    "#### Write a Python function which takes a character (i.e. a string of length 1) and returns True if it is a vowel, False otherwise. "
   ]
  },
  {
   "cell_type": "code",
   "execution_count": 6,
   "metadata": {},
   "outputs": [
    {
     "name": "stdout",
     "output_type": "stream",
     "text": [
      "True\n",
      "False\n"
     ]
    }
   ],
   "source": [
    "def is_vowel(char):\n",
    "    all_vowels = 'aeiou' #assign vowels to variable\n",
    "    return char in all_vowels #compare input char with vowels variable; return output\n",
    "print(is_vowel('a'))\n",
    "print(is_vowel('b'))"
   ]
  }
 ],
 "metadata": {
  "kernelspec": {
   "display_name": "Python 3",
   "language": "python",
   "name": "python3"
  },
  "language_info": {
   "codemirror_mode": {
    "name": "ipython",
    "version": 3
   },
   "file_extension": ".py",
   "mimetype": "text/x-python",
   "name": "python",
   "nbconvert_exporter": "python",
   "pygments_lexer": "ipython3",
   "version": "3.7.6"
  }
 },
 "nbformat": 4,
 "nbformat_minor": 4
}
