{
 "cells": [
  {
   "cell_type": "markdown",
   "metadata": {},
   "source": [
    "# Assignment 3"
   ]
  },
  {
   "cell_type": "markdown",
   "metadata": {},
   "source": [
    "### Q1.1\n",
    "#### Write a Python Program to implement your own myreduce() function which works exactly like Python's built-in function reduce()"
   ]
  },
  {
   "cell_type": "code",
   "execution_count": 89,
   "metadata": {},
   "outputs": [
    {
     "data": {
      "text/plain": [
       "24"
      ]
     },
     "execution_count": 89,
     "metadata": {},
     "output_type": "execute_result"
    }
   ],
   "source": [
    "def myReduce(func, my_list):\n",
    "    result = my_list[0] #start with item 0\n",
    "    for item in my_list[1:]:result = func(result, item) # take base 'x' as item 0 and further apply function using 'y' iterate, for items starting with item 1\n",
    "    return result #return output as base 'x'\n",
    "\n",
    "func = lambda x, y: x*y #assign func as lambda function as x+y\n",
    "myReduce(func, [1,2,3,4]) #apply myReduce() for written func and provided list"
   ]
  },
  {
   "cell_type": "markdown",
   "metadata": {},
   "source": [
    "### Q1.2\n",
    "#### Write a Python program to implement your own myfilter() function which works exactly like Python's built-in function filter()"
   ]
  },
  {
   "cell_type": "code",
   "execution_count": 88,
   "metadata": {},
   "outputs": [
    {
     "data": {
      "text/plain": [
       "[2]"
      ]
     },
     "execution_count": 88,
     "metadata": {},
     "output_type": "execute_result"
    }
   ],
   "source": [
    "def myFilter(func, my_list):\n",
    "    return [x for x in my_list if func(x)] #return x from x in list meeting function\n",
    "\n",
    "func = lambda x: x % 2 == 0 #assign func as lambda function to check x%2 == 0\n",
    "myFilter(func, [1,2,1]) #apply myFilter() for written func and provided list"
   ]
  },
  {
   "cell_type": "markdown",
   "metadata": {},
   "source": [
    "### Q2\n",
    "#### Implement List comprehensions to produce the following lists. \n",
    " \n",
    "['x', 'xx', 'xxx', 'xxxx', 'y', 'yy', 'yyy', 'yyyy', 'z', 'zz', 'zzz', 'zzzz'] \n",
    " \n",
    "['x', 'y', 'z', 'xx', 'yy', 'zz', 'xx', 'yy', 'zz', 'xxxx', 'yyyy', 'zzzz'] \n",
    " \n",
    "[[2], [3], [4], [3], [4], [5], [4], [5], [6]] \n",
    " \n",
    "[[2, 3, 4, 5], [3, 4, 5, 6], [4, 5, 6, 7], [5, 6, 7, 8]] \n",
    " \n",
    "[(1, 1), (2, 1), (3, 1), (1, 2), (2, 2), (3, 2), (1, 3), (2, 3), (3, 3)] "
   ]
  },
  {
   "cell_type": "code",
   "execution_count": 90,
   "metadata": {},
   "outputs": [
    {
     "name": "stdout",
     "output_type": "stream",
     "text": [
      "['x','y','z'] => ['x', 'xx', 'xxx', 'xxxx', 'y', 'yy', 'yyy', 'yyyy', 'z', 'zz', 'zzz', 'zzzz']\n",
      "['x','y','z'] => ['x', 'y', 'z', 'xx', 'yy', 'zz', 'xxx', 'yyy', 'zzz', 'xxxx', 'yyyy', 'zzzz']\n",
      "[2,3,4] =>[[2], [3], [4], [3], [4], [5], [4], [5], [6]]\n",
      "[2,3,4,5] =>[[2, 3, 4, 5], [3, 4, 5, 6], [4, 5, 6, 7], [5, 6, 7, 8]]\n",
      "[1,2,3] => [(1, 1), (2, 1), (3, 1), (1, 2), (2, 2), (3, 2), (1, 3), (2, 3), (3, 3)]\n"
     ]
    }
   ],
   "source": [
    "input_list = ['x','y','z'] #input list\n",
    "result = [item*num for item in input_list for num in range(1,5)] #list comprehension for each item in list with range(1,5)\n",
    "print(\"['x','y','z'] => \" +   str(result)) #print result\n",
    "##########################################\n",
    "input_list = ['x','y','z'] #input list\n",
    "result = [item*num for num in range(1,5) for item in input_list] #list comprehension for items in list; multiplied by num from range(1,5)\n",
    "print(\"['x','y','z'] => \" +   str(result)) #print result\n",
    "##########################################\n",
    "input_list = [2,3,4] #input list\n",
    "result = [[item+num] for item in input_list for num in range(0,3)] #list comprehension for each item in list; added by num from range(0,3)\n",
    "print(\"[2,3,4] =>\" +  str(result)) #print result\n",
    "##########################################\n",
    "input_list = [2,3,4,5] #input list\n",
    "result = [[item+num for item in input_list] for num in range(0,4)] #list comprehension for list of items in list; added by num from range(0,4)\n",
    "print(\"[2,3,4,5] =>\" +  str(result)) #print result\n",
    "##########################################\n",
    "input_list=[1,2,3] #input list\n",
    "result = [(b,a) for a in input_list for b in input_list] #list comprehension to combine each item(b) in list with a selected item from list (a)\n",
    "print(\"[1,2,3] => \" +  str(result)) #print result"
   ]
  }
 ],
 "metadata": {
  "kernelspec": {
   "display_name": "Python 3",
   "language": "python",
   "name": "python3"
  },
  "language_info": {
   "codemirror_mode": {
    "name": "ipython",
    "version": 3
   },
   "file_extension": ".py",
   "mimetype": "text/x-python",
   "name": "python",
   "nbconvert_exporter": "python",
   "pygments_lexer": "ipython3",
   "version": "3.7.6"
  }
 },
 "nbformat": 4,
 "nbformat_minor": 4
}
